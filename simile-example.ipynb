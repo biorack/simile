{
 "cells": [
  {
   "cell_type": "code",
   "execution_count": 1,
   "id": "organized-train",
   "metadata": {},
   "outputs": [
    {
     "name": "stderr",
     "output_type": "stream",
     "text": [
      "/var/folders/yd/wk0sjvrj5q379l6mjply6h4c0000gn/T/ipykernel_4476/1739690547.py:1: DeprecationWarning: Importing display from IPython.core.display is deprecated since IPython 7.14, please import from IPython display\n",
      "  from IPython.core.display import display, HTML\n"
     ]
    },
    {
     "data": {
      "text/html": [
       "<style>.container { width:100% !important; }</style>"
      ],
      "text/plain": [
       "<IPython.core.display.HTML object>"
      ]
     },
     "metadata": {},
     "output_type": "display_data"
    }
   ],
   "source": [
    "from IPython.core.display import display, HTML\n",
    "display(HTML(\"<style>.container { width:100% !important; }</style>\"))\n",
    "\n",
    "import sys\n",
    "sys.path.insert(0, './simile')\n",
    "\n",
    "import importlib\n",
    "import simile as sml\n",
    "importlib.reload(sml)\n",
    "\n",
    "import pandas as pd\n",
    "import numpy as np\n",
    "\n",
    "from matplotlib import pyplot as plt\n",
    "import seaborn as sns\n",
    "\n",
    "from rdkit.Chem import MolFromSmiles, rdFMCS, MolToInchiKey"
   ]
  },
  {
   "cell_type": "markdown",
   "id": "continent-roulette",
   "metadata": {},
   "source": [
    "## Option 1: Load Example Data"
   ]
  },
  {
   "cell_type": "code",
   "execution_count": 2,
   "id": "proud-tissue",
   "metadata": {},
   "outputs": [],
   "source": [
    "mzi = []\n",
    "pmz = []\n",
    "mols = []\n",
    "spec_name = None\n",
    "tolerance = .01\n",
    "\n",
    "for ex in ['1','5a','5b','5c']:\n",
    "    df = pd.read_json('./example_data/fig{}.json'.format(ex))\n",
    "    mzi.append(np.array((df.iloc[0].spectrum)))\n",
    "    mzi.append(np.array((df.iloc[1].spectrum)))\n",
    "\n",
    "    pmz.append(df.iloc[0].precursor_mz)\n",
    "    pmz.append(df.iloc[1].precursor_mz)\n",
    "\n",
    "    mols.append(MolFromSmiles(df.iloc[0].smiles))\n",
    "    mols.append(MolFromSmiles(df.iloc[1].smiles))\n"
   ]
  },
  {
   "cell_type": "code",
   "execution_count": 3,
   "id": "b4a1e4ae",
   "metadata": {
    "scrolled": true
   },
   "outputs": [
    {
     "data": {
      "image/png": "[encoded data removed]",
      "text/plain": [
       "<rdkit.Chem.rdchem.Mol at 0x150d51a60>"
      ]
     },
     "execution_count": 3,
     "metadata": {},
     "output_type": "execute_result"
    }
   ],
   "source": [
    "mols[6]"
   ]
  },
  {
   "cell_type": "code",
   "execution_count": 4,
   "id": "c4095986",
   "metadata": {},
   "outputs": [
    {
     "data": {
      "image/png": "[encoded data removed]",
      "text/plain": [
       "<rdkit.Chem.rdchem.Mol at 0x150d51580>"
      ]
     },
     "execution_count": 4,
     "metadata": {},
     "output_type": "execute_result"
    }
   ],
   "source": [
    "mols[7]"
   ]
  },
  {
   "cell_type": "code",
   "execution_count": 5,
   "id": "welcome-fabric",
   "metadata": {},
   "outputs": [
    {
     "data": {
      "text/plain": [
       "0.8260869565217391"
      ]
     },
     "execution_count": 5,
     "metadata": {},
     "output_type": "execute_result"
    }
   ],
   "source": [
    "res = rdFMCS.FindMCS([mols[-1],mols[-2]],timeout=10,ringMatchesRingOnly=False)\n",
    "A = mols[-1].GetNumBonds()\n",
    "B = mols[-2].GetNumBonds()\n",
    "AB = res.numBonds \n",
    "jaccard_similarity = AB / (A+B-AB)\n",
    "jaccard_similarity"
   ]
  },
  {
   "cell_type": "markdown",
   "id": "dda8e926",
   "metadata": {},
   "source": [
    "## Option 2: Generate Synthetic Data"
   ]
  },
  {
   "cell_type": "code",
   "execution_count": 6,
   "id": "79836ff8",
   "metadata": {},
   "outputs": [],
   "source": [
    "mzi = []\n",
    "pmz = []\n",
    "mols = []\n",
    "spec_name = []\n",
    "tolerance = .01\n",
    "\n",
    "a = 20 + np.random.random_sample()/10\n",
    "b = 8  + np.random.random_sample()/10\n",
    "c = 5  + np.random.random_sample()/10\n",
    "d = 1  + np.random.random_sample()/10\n",
    "\n",
    "mzi.append(np.array([[c,b,a,a+c,a+b,a+b+c]\n",
    "                for i in range(2)]))\n",
    "pmz.append(mzi[-1][0].max())\n",
    "spec_name.append('none')\n",
    "\n",
    "mzi.append(np.array([[c,b+d,a,a+c,a+b+d,a+b+c+d]\n",
    "                for i in range(2)]))\n",
    "pmz.append(mzi[-1][0].max())\n",
    "spec_name.append('b')\n",
    "\n",
    "\n",
    "mzi.append(np.array([[c,c+d,b,b+d,a,a+c+d,a+b+d,a+b+c+d,a+b+c+2*d]\n",
    "                 for i in range(2)]))\n",
    "pmz.append(mzi[-1][0].max())\n",
    "spec_name.append('b+c')\n",
    "\n",
    "\n",
    "mzi.append(np.array([[c+d,b,a,a+c+d,a+b,a+b+c+d]\n",
    "                 for i in range(2)]))\n",
    "pmz.append(mzi[-1][0].max())\n",
    "spec_name.append('c')\n"
   ]
  },
  {
   "cell_type": "markdown",
   "id": "424dd8ce",
   "metadata": {},
   "source": [
    "## Option 3: Load GNPS Data"
   ]
  },
  {
   "cell_type": "code",
   "execution_count": 7,
   "id": "a58fe232",
   "metadata": {},
   "outputs": [],
   "source": [
    "mzi = []\n",
    "pmz = []\n",
    "mols = []\n",
    "spec_name = None\n",
    "tolerance = .33\n",
    "\n",
    "\n",
    "import requests\n",
    "url1 = 'https://metabolomics-usi.ucsd.edu/json/?usi1=mzspec:GNPS:TASK-e3642744dc754c73ab780797577c62d2-spectra/specs_ms.mgf:scan:2021'\n",
    "url2 = 'https://metabolomics-usi.ucsd.edu/json/?usi1=mzspec:GNPS:TASK-e3642744dc754c73ab780797577c62d2-spectra/specs_ms.mgf:scan:2025'\n",
    "\n",
    "r = requests.get(url1)\n",
    "mzi.append(np.asarray(r.json()['peaks']).T)\n",
    "pmz.append(r.json()['precursor_mz'])\n",
    "\n",
    "r = requests.get(url2)\n",
    "mzi.append(np.asarray(r.json()['peaks']).T)\n",
    "pmz.append(r.json()['precursor_mz'])\n"
   ]
  },
  {
   "cell_type": "markdown",
   "id": "smaller-flush",
   "metadata": {},
   "source": [
    "## SIMILE Substitution Matrix, Alignment Score, and Alignment P-value"
   ]
  },
  {
   "cell_type": "markdown",
   "id": "cc31e647",
   "metadata": {},
   "source": [
    "### Select Spectra"
   ]
  },
  {
   "cell_type": "code",
   "execution_count": 8,
   "id": "aeda8b5b",
   "metadata": {},
   "outputs": [
    {
     "name": "stderr",
     "output_type": "stream",
     "text": [
      "/var/folders/yd/wk0sjvrj5q379l6mjply6h4c0000gn/T/ipykernel_4476/967830267.py:2: VisibleDeprecationWarning: Creating an ndarray from ragged nested sequences (which is a list-or-tuple of lists-or-tuples-or ndarrays with different lengths or shapes) is deprecated. If you meant to do this, you must specify 'dtype=object' when creating the ndarray.\n",
      "  mzs = np.array([mz for (mz,i) in mzi])#[[4,5]]\n"
     ]
    }
   ],
   "source": [
    "## Subsample spectra of interest by slicing \n",
    "mzs = np.array([mz for (mz,i) in mzi])#[[4,5]]\n",
    "pmzs = np.array(pmz)#[[4,5]]"
   ]
  },
  {
   "cell_type": "markdown",
   "id": "e2c487ab",
   "metadata": {},
   "source": [
    "### Run SIMILE"
   ]
  },
  {
   "cell_type": "code",
   "execution_count": null,
   "id": "a723c3cd",
   "metadata": {
    "scrolled": false
   },
   "outputs": [
    {
     "name": "stdout",
     "output_type": "stream",
     "text": [
      "Scores:\n",
      "  (0, 0)\t-0.9165821360384485\n",
      "  (0, 1)\t1.1125109273149747\n",
      "  (1, 1)\t-0.5063827970234343, \n",
      "P-values:\n",
      "  (0, 0)\t0.8413447460685429\n",
      "  (0, 1)\t1.866597994616601e-11\n",
      "  (1, 1)\t0.8412873594395576, \n",
      "Matches: (89, -250)\n"
     ]
    },
    {
     "name": "stderr",
     "output_type": "stream",
     "text": [
      "<timed exec>:52: UserWarning: Matplotlib is currently using module://matplotlib_inline.backend_inline, which is a non-GUI backend, so cannot show the figure.\n"
     ]
    },
    {
     "name": "stdout",
     "output_type": "stream",
     "text": [
      "CPU times: user 2.4 s, sys: 879 ms, total: 3.28 s\n",
      "Wall time: 1.26 s\n"
     ]
    }
   ],
   "source": [
    "%%time\n",
    "# %matplotlib inline\n",
    "sml = importlib.reload(sml)\n",
    "\n",
    "# SIMILE ##############################################################################################################\n",
    "S, spec_ids = sml.similarity_matrix(mzs, pmzs=pmzs, tolerance=tolerance)\n",
    "\n",
    "# Each fragment ion can only match once\n",
    "# M = sml.pairwise_match(S)\n",
    "\n",
    "# Each fragment ion can only match once per fragmentation spectra\n",
    "M = sml.multiple_match(S,spec_ids)\n",
    "\n",
    "C = sml.inter_intra_compare(M,spec_ids)\n",
    "\n",
    "spec_scores,pval,null_dist = sml.z_test(S,M,C, spec_ids, return_dist=True, log_size=5)\n",
    "\n",
    "# Plotting ###########################################################################################################\n",
    "print('Scores:\\n{}, \\nP-values:\\n{}, \\nMatches: {}'.format(spec_scores, pval, (((M.multiply(C))>0).sum(),-((M.multiply(C))<0).sum())))\n",
    "fig,ax= plt.subplots(1,3,figsize=(16,16))\n",
    "\n",
    "sns.heatmap(S, \n",
    "            cbar_kws={\"shrink\": .2},\n",
    "            center=0,linewidths=0.0, rasterized=True, ax=ax[0])\n",
    "ax[0].xaxis.set_label_text('SIMILE Score Matrix', fontsize=22)\n",
    "ax[0].vlines(np.argwhere(spec_ids[:-1] != spec_ids[1:]).flatten()+1, 0, len(spec_ids), color='g', linestyle=':')\n",
    "ax[0].hlines(np.argwhere(spec_ids[:-1] != spec_ids[1:]).flatten()+1, 0, len(spec_ids), color='g', linestyle=':')\n",
    "ax[0].set_aspect(1.0/ax[0].get_data_ratio(), adjustable='box')\n",
    "\n",
    "\n",
    "sns.heatmap(S*M.toarray()*C,\n",
    "            cbar_kws={\"shrink\": .2},\n",
    "            center=0,linewidths=0.0, rasterized=True, ax=ax[1])\n",
    "ax[1].xaxis.set_label_text('SIMILE Match Matrix', fontsize=22)\n",
    "ax[1].vlines(np.argwhere(spec_ids[:-1] != spec_ids[1:]).flatten()+1, 0, len(spec_ids), color='g', linestyle=':')\n",
    "ax[1].hlines(np.argwhere(spec_ids[:-1] != spec_ids[1:]).flatten()+1, 0, len(spec_ids), color='g', linestyle=':')\n",
    "ax[1].set_aspect(1.0/ax[2].get_data_ratio(), adjustable='box')\n",
    "\n",
    "\n",
    "sns.histplot(null_dist.real, ax=ax[2], stat='count',bins=100)\n",
    "legend = ax[2].get_legend()\n",
    "handles = legend.legendHandles\n",
    "legend.remove()\n",
    "ax[2].legend(handles, list(zip(spec_scores.row,spec_scores.col)))\n",
    "ax[2].xaxis.set_label_text('SIMILE Null Distribution\\nand Observed Score', fontsize=22)\n",
    "ax[2].yaxis.set_label_text('Count', fontsize=2)\n",
    "ax[2].xaxis.set_tick_params(labelsize=18)\n",
    "ax[2].yaxis.set_tick_params(labelsize=18)\n",
    "ax[2].vlines(spec_scores.data,0,-ax[2].get_ylim()[1]/25,linewidth=5,color=sns.color_palette())\n",
    "ax[2].set_aspect(.8/ax[2].get_data_ratio(), adjustable='box')\n",
    "\n",
    "fig.tight_layout()\n",
    "fig.show()"
   ]
  },
  {
   "cell_type": "code",
   "execution_count": null,
   "id": "33778c28",
   "metadata": {},
   "outputs": [],
   "source": [
    "sml.matching_ions_report(S,M,C,mzs,pmzs).query('type==\"pro\"').sort_values('score',ascending=False).head(50)"
   ]
  },
  {
   "cell_type": "code",
   "execution_count": null,
   "id": "f5995f29",
   "metadata": {},
   "outputs": [],
   "source": []
  },
  {
   "cell_type": "code",
   "execution_count": null,
   "id": "c87c57fe",
   "metadata": {},
   "outputs": [],
   "source": []
  }
 ],
 "metadata": {
  "kernelspec": {
   "display_name": "Python 3 (ipykernel)",
   "language": "python",
   "name": "python3"
  },
  "language_info": {
   "codemirror_mode": {
    "name": "ipython",
    "version": 3
   },
   "file_extension": ".py",
   "mimetype": "text/x-python",
   "name": "python",
   "nbconvert_exporter": "python",
   "pygments_lexer": "ipython3",
   "version": "3.9.10"
  }
 },
 "nbformat": 4,
 "nbformat_minor": 5
}
