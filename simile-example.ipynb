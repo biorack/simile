{
 "cells": [
  {
   "cell_type": "code",
   "execution_count": 1,
   "id": "organized-train",
   "metadata": {},
   "outputs": [
    {
     "name": "stderr",
     "output_type": "stream",
     "text": [
      "/var/folders/yd/wk0sjvrj5q379l6mjply6h4c0000gn/T/ipykernel_7089/1739690547.py:1: DeprecationWarning: Importing display from IPython.core.display is deprecated since IPython 7.14, please import from IPython display\n",
      "  from IPython.core.display import display, HTML\n"
     ]
    },
    {
     "data": {
      "text/html": [
       "<style>.container { width:100% !important; }</style>"
      ],
      "text/plain": [
       "<IPython.core.display.HTML object>"
      ]
     },
     "metadata": {},
     "output_type": "display_data"
    }
   ],
   "source": [
    "from IPython.core.display import display, HTML\n",
    "display(HTML(\"<style>.container { width:100% !important; }</style>\"))\n",
    "\n",
    "import sys\n",
    "sys.path.insert(0, './simile')\n",
    "\n",
    "import importlib\n",
    "import simile as sml\n",
    "importlib.reload(sml)\n",
    "\n",
    "import pandas as pd\n",
    "import numpy as np\n",
    "\n",
    "from matplotlib import pyplot as plt\n",
    "import seaborn as sns\n",
    "\n",
    "from rdkit.Chem import MolFromSmiles, rdFMCS, MolToInchiKey"
   ]
  },
  {
   "cell_type": "markdown",
   "id": "continent-roulette",
   "metadata": {},
   "source": [
    "## Option 1: Load Example Data"
   ]
  },
  {
   "cell_type": "code",
   "execution_count": 2,
   "id": "proud-tissue",
   "metadata": {},
   "outputs": [],
   "source": [
    "mzi = []\n",
    "pmz = []\n",
    "mols = []\n",
    "spec_name = None\n",
    "tolerance = .01\n",
    "\n",
    "for ex in ['1','5a','5b','5c']:\n",
    "    df = pd.read_json('./example_data/fig{}.json'.format(ex))\n",
    "    mzi.append(np.array((df.iloc[0].spectrum)))\n",
    "    mzi.append(np.array((df.iloc[1].spectrum)))\n",
    "\n",
    "    pmz.append(df.iloc[0].precursor_mz)\n",
    "    pmz.append(df.iloc[1].precursor_mz)\n",
    "\n",
    "    mols.append(MolFromSmiles(df.iloc[0].smiles))\n",
    "    mols.append(MolFromSmiles(df.iloc[1].smiles))\n"
   ]
  },
  {
   "cell_type": "code",
   "execution_count": 3,
   "id": "b4a1e4ae",
   "metadata": {
    "scrolled": true
   },
   "outputs": [
    {
     "data": {
      "image/png": "[encoded data removed]",
      "text/plain": [
       "<rdkit.Chem.rdchem.Mol at 0x13a918880>"
      ]
     },
     "execution_count": 3,
     "metadata": {},
     "output_type": "execute_result"
    }
   ],
   "source": [
    "mols[6]"
   ]
  },
  {
   "cell_type": "code",
   "execution_count": 4,
   "id": "c4095986",
   "metadata": {},
   "outputs": [
    {
     "data": {
      "image/png": "[encoded data removed]",
      "text/plain": [
       "<rdkit.Chem.rdchem.Mol at 0x13a918580>"
      ]
     },
     "execution_count": 4,
     "metadata": {},
     "output_type": "execute_result"
    }
   ],
   "source": [
    "mols[7]"
   ]
  },
  {
   "cell_type": "code",
   "execution_count": 5,
   "id": "welcome-fabric",
   "metadata": {},
   "outputs": [
    {
     "data": {
      "text/plain": [
       "0.8260869565217391"
      ]
     },
     "execution_count": 5,
     "metadata": {},
     "output_type": "execute_result"
    }
   ],
   "source": [
    "res = rdFMCS.FindMCS([mols[-1],mols[-2]],timeout=10,ringMatchesRingOnly=False)\n",
    "A = mols[-1].GetNumBonds()\n",
    "B = mols[-2].GetNumBonds()\n",
    "AB = res.numBonds \n",
    "jaccard_similarity = AB / (A+B-AB)\n",
    "jaccard_similarity"
   ]
  },
  {
   "cell_type": "markdown",
   "id": "dda8e926",
   "metadata": {},
   "source": [
    "## Option 2: Generate Synthetic Data"
   ]
  },
  {
   "cell_type": "code",
   "execution_count": 16,
   "id": "79836ff8",
   "metadata": {},
   "outputs": [],
   "source": [
    "mzi = []\n",
    "pmz = []\n",
    "mols = []\n",
    "spec_name = []\n",
    "tolerance = .01\n",
    "\n",
    "a = 20 + np.random.random_sample()/10\n",
    "b = 8  + np.random.random_sample()/10\n",
    "c = 5  + np.random.random_sample()/10\n",
    "d = 1  + np.random.random_sample()/10\n",
    "\n",
    "mzi.append(np.array([[c,b,a,a+c,a+b,a+b+c]\n",
    "                for i in range(2)]))\n",
    "pmz.append(mzi[-1][0].max())\n",
    "spec_name.append('none')\n",
    "\n",
    "mzi.append(np.array([[c,b+d,a,a+c,a+b+d,a+b+c+d]\n",
    "                for i in range(2)]))\n",
    "pmz.append(mzi[-1][0].max())\n",
    "spec_name.append('b')\n",
    "\n",
    "\n",
    "mzi.append(np.array([[c,c+d,b,b+d,a,a+c+d,a+b+d,a+b+c+d,a+b+c+2*d]\n",
    "                 for i in range(2)]))\n",
    "pmz.append(mzi[-1][0].max())\n",
    "spec_name.append('b+c')\n",
    "\n",
    "\n",
    "mzi.append(np.array([[c+d,b,a,a+c+d,a+b,a+b+c+d]\n",
    "                 for i in range(2)]))\n",
    "pmz.append(mzi[-1][0].max())\n",
    "spec_name.append('c')\n"
   ]
  },
  {
   "cell_type": "markdown",
   "id": "424dd8ce",
   "metadata": {},
   "source": [
    "## Option 3: Load GNPS Data"
   ]
  },
  {
   "cell_type": "code",
   "execution_count": 10,
   "id": "a58fe232",
   "metadata": {},
   "outputs": [],
   "source": [
    "mzi = []\n",
    "pmz = []\n",
    "mols = []\n",
    "spec_name = None\n",
    "tolerance = .33\n",
    "\n",
    "\n",
    "import requests\n",
    "url1 = 'https://metabolomics-usi.ucsd.edu/json/?usi1=mzspec:GNPS:TASK-e3642744dc754c73ab780797577c62d2-spectra/specs_ms.mgf:scan:2021'\n",
    "url2 = 'https://metabolomics-usi.ucsd.edu/json/?usi1=mzspec:GNPS:TASK-e3642744dc754c73ab780797577c62d2-spectra/specs_ms.mgf:scan:2025'\n",
    "\n",
    "r = requests.get(url1)\n",
    "mzi.append(np.asarray(r.json()['peaks']).T)\n",
    "pmz.append(r.json()['precursor_mz'])\n",
    "\n",
    "r = requests.get(url2)\n",
    "mzi.append(np.asarray(r.json()['peaks']).T)\n",
    "pmz.append(r.json()['precursor_mz'])\n"
   ]
  },
  {
   "cell_type": "markdown",
   "id": "smaller-flush",
   "metadata": {},
   "source": [
    "## SIMILE Substitution Matrix, Alignment Score, and Alignment P-value"
   ]
  },
  {
   "cell_type": "markdown",
   "id": "cc31e647",
   "metadata": {},
   "source": [
    "### Select Spectra"
   ]
  },
  {
   "cell_type": "code",
   "execution_count": 17,
   "id": "aeda8b5b",
   "metadata": {},
   "outputs": [
    {
     "name": "stderr",
     "output_type": "stream",
     "text": [
      "/var/folders/yd/wk0sjvrj5q379l6mjply6h4c0000gn/T/ipykernel_7089/1043479681.py:2: VisibleDeprecationWarning: Creating an ndarray from ragged nested sequences (which is a list-or-tuple of lists-or-tuples-or ndarrays with different lengths or shapes) is deprecated. If you meant to do this, you must specify 'dtype=object' when creating the ndarray.\n",
      "  mzs = np.array([mz for (mz,i) in mzi])#[[6,7]]\n"
     ]
    }
   ],
   "source": [
    "## Subsample spectra of interest by slicing \n",
    "mzs = np.array([mz for (mz,i) in mzi])#[[6,7]]\n",
    "pmzs = np.array(pmz)#[[6,7]]"
   ]
  },
  {
   "cell_type": "markdown",
   "id": "e2c487ab",
   "metadata": {},
   "source": [
    "### Run SIMILE"
   ]
  },
  {
   "cell_type": "code",
   "execution_count": 18,
   "id": "a723c3cd",
   "metadata": {
    "scrolled": false
   },
   "outputs": [
    {
     "name": "stdout",
     "output_type": "stream",
     "text": [
      "Scores: (1.7020384140193114, 1.0), P-value: 0.0018902594358390886, Matches: (27, 0)\n",
      "CPU times: user 579 ms, sys: 386 ms, total: 965 ms\n",
      "Wall time: 202 ms\n"
     ]
    },
    {
     "name": "stderr",
     "output_type": "stream",
     "text": [
      "<timed exec>:56: UserWarning: Matplotlib is currently using module://matplotlib_inline.backend_inline, which is a non-GUI backend, so cannot show the figure.\n"
     ]
    },
    {
     "data": {
      "image/png": "[encoded data removed]",
      "text/plain": [
       "<Figure size 1152x1152 with 5 Axes>"
      ]
     },
     "metadata": {
      "needs_background": "light"
     },
     "output_type": "display_data"
    }
   ],
   "source": [
    "%%time\n",
    "# %matplotlib inline\n",
    "sml = importlib.reload(sml)\n",
    "\n",
    "# SIMILE ##############################################################################################################\n",
    "S, spec_ids = sml.similarity_matrix(mzs, pmzs=pmzs, tolerance=.33)\n",
    "\n",
    "C = sml.inter_intra_compare(spec_ids)\n",
    "\n",
    "# Set comparisons so only consecutive spectra are \"good\"\n",
    "# C = 2*np.maximum(np.equal.outer(spec_ids,spec_ids+1),\n",
    "#                  np.equal.outer(spec_ids,spec_ids-1))-1\n",
    "\n",
    "# Each fragment ion can only match once\n",
    "# M = sml.pairwise_match(S)\n",
    "\n",
    "# Each fragment ion can only match once per fragmentation spectra\n",
    "M = sml.multiple_match(S,spec_ids)\n",
    "\n",
    "score, scores, probs = sml.match_scores(S,C,M, spec_ids, gap_penalty=4)\n",
    "pro = scores.clip(0).sum()\n",
    "con = -scores.clip(None,0).sum()\n",
    "\n",
    "pval,null_dist = sml.z_test(scores, probs, return_dist=True, log_size=4)\n",
    "\n",
    "# Plotting ###########################################################################################################\n",
    "print('Scores: {}, P-value: {}, Matches: {}'.format((pro,score),pval, (((M*C)>0).sum(),-((M*C)<0).sum())))\n",
    "fig,ax= plt.subplots(1,3,figsize=(16,16))\n",
    "\n",
    "sns.heatmap(S, \n",
    "            cbar_kws={\"shrink\": .2},\n",
    "            center=0,linewidths=0.0, rasterized=True, ax=ax[0])\n",
    "ax[0].xaxis.set_label_text('SIMILE Score Matrix', fontsize=22)\n",
    "# ax[0].vlines(np.argwhere(spec_ids[:-1] != spec_ids[1:]).flatten()+1, 0, len(spec_ids), color='g', linestyle=':')\n",
    "# ax[0].hlines(np.argwhere(spec_ids[:-1] != spec_ids[1:]).flatten()+1, 0, len(spec_ids), color='g', linestyle=':')\n",
    "ax[0].set_aspect(1.0/ax[0].get_data_ratio(), adjustable='box')\n",
    "\n",
    "\n",
    "sns.heatmap(S*C*M+np.diag(scores), \n",
    "            cbar_kws={\"shrink\": .2},\n",
    "            center=0,linewidths=0.0, rasterized=True, ax=ax[1])\n",
    "ax[1].xaxis.set_label_text('SIMILE Match Matrix', fontsize=22)\n",
    "ax[1].vlines(np.argwhere(spec_ids[:-1] != spec_ids[1:]).flatten()+1, 0, len(spec_ids), color='g', linestyle=':')\n",
    "ax[1].hlines(np.argwhere(spec_ids[:-1] != spec_ids[1:]).flatten()+1, 0, len(spec_ids), color='g', linestyle=':')\n",
    "ax[1].set_aspect(1.0/ax[2].get_data_ratio(), adjustable='box')\n",
    "\n",
    "\n",
    "sns.histplot(null_dist.real, ax=ax[2], stat='count',bins=100)\n",
    "ax[2].xaxis.set_label_text('SIMILE Null Distribution\\nand Observed Score', fontsize=22)\n",
    "ax[2].yaxis.set_label_text('Count', fontsize=2)\n",
    "ax[2].xaxis.set_tick_params(labelsize=18)\n",
    "ax[2].yaxis.set_tick_params(labelsize=18)\n",
    "ax[2].vlines((pro-con),0,-ax[2].get_ylim()[1]/25,color='g',linewidth=5)\n",
    "ax[2].set_aspect(.8/ax[2].get_data_ratio(), adjustable='box')\n",
    "\n",
    "fig.tight_layout()\n",
    "fig.show()"
   ]
  },
  {
   "cell_type": "code",
   "execution_count": 19,
   "id": "33778c28",
   "metadata": {},
   "outputs": [
    {
     "data": {
      "text/html": [
       "<div>\n",
       "<style scoped>\n",
       "    .dataframe tbody tr th:only-of-type {\n",
       "        vertical-align: middle;\n",
       "    }\n",
       "\n",
       "    .dataframe tbody tr th {\n",
       "        vertical-align: top;\n",
       "    }\n",
       "\n",
       "    .dataframe thead th {\n",
       "        text-align: right;\n",
       "    }\n",
       "</style>\n",
       "<table border=\"1\" class=\"dataframe\">\n",
       "  <thead>\n",
       "    <tr style=\"text-align: right;\">\n",
       "      <th></th>\n",
       "      <th>spec_key_1</th>\n",
       "      <th>spec_key_2</th>\n",
       "      <th>pmz_1</th>\n",
       "      <th>pmz_2</th>\n",
       "      <th>mz_1</th>\n",
       "      <th>mz_2</th>\n",
       "      <th>mz_diff</th>\n",
       "      <th>nl_diff</th>\n",
       "      <th>score</th>\n",
       "      <th>type</th>\n",
       "    </tr>\n",
       "  </thead>\n",
       "  <tbody>\n",
       "    <tr>\n",
       "      <th>15</th>\n",
       "      <td>2</td>\n",
       "      <td>3</td>\n",
       "      <td>35.348531</td>\n",
       "      <td>34.260122</td>\n",
       "      <td>34.260122</td>\n",
       "      <td>34.260122</td>\n",
       "      <td>0.000000</td>\n",
       "      <td>NaN</td>\n",
       "      <td>0.124207</td>\n",
       "      <td>pro</td>\n",
       "    </tr>\n",
       "    <tr>\n",
       "      <th>10</th>\n",
       "      <td>1</td>\n",
       "      <td>2</td>\n",
       "      <td>34.260122</td>\n",
       "      <td>35.348531</td>\n",
       "      <td>34.260122</td>\n",
       "      <td>34.260122</td>\n",
       "      <td>0.000000</td>\n",
       "      <td>NaN</td>\n",
       "      <td>0.124207</td>\n",
       "      <td>pro</td>\n",
       "    </tr>\n",
       "    <tr>\n",
       "      <th>5</th>\n",
       "      <td>0</td>\n",
       "      <td>2</td>\n",
       "      <td>33.171714</td>\n",
       "      <td>35.348531</td>\n",
       "      <td>33.171714</td>\n",
       "      <td>34.260122</td>\n",
       "      <td>-1.088408</td>\n",
       "      <td>NaN</td>\n",
       "      <td>0.090771</td>\n",
       "      <td>pro</td>\n",
       "    </tr>\n",
       "    <tr>\n",
       "      <th>13</th>\n",
       "      <td>2</td>\n",
       "      <td>3</td>\n",
       "      <td>35.348531</td>\n",
       "      <td>34.260122</td>\n",
       "      <td>20.095610</td>\n",
       "      <td>20.095610</td>\n",
       "      <td>0.000000</td>\n",
       "      <td>1.088408</td>\n",
       "      <td>0.080750</td>\n",
       "      <td>pro</td>\n",
       "    </tr>\n",
       "    <tr>\n",
       "      <th>8</th>\n",
       "      <td>1</td>\n",
       "      <td>2</td>\n",
       "      <td>34.260122</td>\n",
       "      <td>35.348531</td>\n",
       "      <td>20.095610</td>\n",
       "      <td>20.095610</td>\n",
       "      <td>0.000000</td>\n",
       "      <td>-1.088408</td>\n",
       "      <td>0.071638</td>\n",
       "      <td>pro</td>\n",
       "    </tr>\n",
       "    <tr>\n",
       "      <th>16</th>\n",
       "      <td>2</td>\n",
       "      <td>3</td>\n",
       "      <td>35.348531</td>\n",
       "      <td>34.260122</td>\n",
       "      <td>35.348531</td>\n",
       "      <td>34.260122</td>\n",
       "      <td>1.088408</td>\n",
       "      <td>NaN</td>\n",
       "      <td>0.065734</td>\n",
       "      <td>pro</td>\n",
       "    </tr>\n",
       "    <tr>\n",
       "      <th>12</th>\n",
       "      <td>2</td>\n",
       "      <td>3</td>\n",
       "      <td>35.348531</td>\n",
       "      <td>34.260122</td>\n",
       "      <td>8.050906</td>\n",
       "      <td>8.050906</td>\n",
       "      <td>0.000000</td>\n",
       "      <td>1.088408</td>\n",
       "      <td>0.064114</td>\n",
       "      <td>pro</td>\n",
       "    </tr>\n",
       "    <tr>\n",
       "      <th>7</th>\n",
       "      <td>1</td>\n",
       "      <td>2</td>\n",
       "      <td>34.260122</td>\n",
       "      <td>35.348531</td>\n",
       "      <td>9.139314</td>\n",
       "      <td>9.139314</td>\n",
       "      <td>0.000000</td>\n",
       "      <td>-1.088408</td>\n",
       "      <td>0.060868</td>\n",
       "      <td>pro</td>\n",
       "    </tr>\n",
       "    <tr>\n",
       "      <th>2</th>\n",
       "      <td>0</td>\n",
       "      <td>1</td>\n",
       "      <td>33.171714</td>\n",
       "      <td>34.260122</td>\n",
       "      <td>20.095610</td>\n",
       "      <td>20.095610</td>\n",
       "      <td>0.000000</td>\n",
       "      <td>-1.088408</td>\n",
       "      <td>0.060118</td>\n",
       "      <td>pro</td>\n",
       "    </tr>\n",
       "    <tr>\n",
       "      <th>11</th>\n",
       "      <td>2</td>\n",
       "      <td>3</td>\n",
       "      <td>35.348531</td>\n",
       "      <td>34.260122</td>\n",
       "      <td>6.113606</td>\n",
       "      <td>6.113606</td>\n",
       "      <td>0.000000</td>\n",
       "      <td>1.088408</td>\n",
       "      <td>0.059408</td>\n",
       "      <td>pro</td>\n",
       "    </tr>\n",
       "    <tr>\n",
       "      <th>6</th>\n",
       "      <td>1</td>\n",
       "      <td>2</td>\n",
       "      <td>34.260122</td>\n",
       "      <td>35.348531</td>\n",
       "      <td>5.025198</td>\n",
       "      <td>5.025198</td>\n",
       "      <td>0.000000</td>\n",
       "      <td>-1.088408</td>\n",
       "      <td>0.052070</td>\n",
       "      <td>pro</td>\n",
       "    </tr>\n",
       "    <tr>\n",
       "      <th>14</th>\n",
       "      <td>2</td>\n",
       "      <td>3</td>\n",
       "      <td>35.348531</td>\n",
       "      <td>34.260122</td>\n",
       "      <td>26.209216</td>\n",
       "      <td>26.209216</td>\n",
       "      <td>0.000000</td>\n",
       "      <td>1.088408</td>\n",
       "      <td>0.051111</td>\n",
       "      <td>pro</td>\n",
       "    </tr>\n",
       "    <tr>\n",
       "      <th>9</th>\n",
       "      <td>1</td>\n",
       "      <td>2</td>\n",
       "      <td>34.260122</td>\n",
       "      <td>35.348531</td>\n",
       "      <td>29.234925</td>\n",
       "      <td>29.234925</td>\n",
       "      <td>0.000000</td>\n",
       "      <td>-1.088408</td>\n",
       "      <td>0.050585</td>\n",
       "      <td>pro</td>\n",
       "    </tr>\n",
       "    <tr>\n",
       "      <th>1</th>\n",
       "      <td>0</td>\n",
       "      <td>3</td>\n",
       "      <td>33.171714</td>\n",
       "      <td>34.260122</td>\n",
       "      <td>8.050906</td>\n",
       "      <td>8.050906</td>\n",
       "      <td>0.000000</td>\n",
       "      <td>-1.088408</td>\n",
       "      <td>0.037017</td>\n",
       "      <td>pro</td>\n",
       "    </tr>\n",
       "    <tr>\n",
       "      <th>0</th>\n",
       "      <td>0</td>\n",
       "      <td>1</td>\n",
       "      <td>33.171714</td>\n",
       "      <td>34.260122</td>\n",
       "      <td>5.025198</td>\n",
       "      <td>5.025198</td>\n",
       "      <td>0.000000</td>\n",
       "      <td>-1.088408</td>\n",
       "      <td>0.037017</td>\n",
       "      <td>pro</td>\n",
       "    </tr>\n",
       "    <tr>\n",
       "      <th>4</th>\n",
       "      <td>0</td>\n",
       "      <td>3</td>\n",
       "      <td>33.171714</td>\n",
       "      <td>34.260122</td>\n",
       "      <td>28.146516</td>\n",
       "      <td>28.146516</td>\n",
       "      <td>0.000000</td>\n",
       "      <td>-1.088408</td>\n",
       "      <td>0.034702</td>\n",
       "      <td>pro</td>\n",
       "    </tr>\n",
       "    <tr>\n",
       "      <th>3</th>\n",
       "      <td>0</td>\n",
       "      <td>1</td>\n",
       "      <td>33.171714</td>\n",
       "      <td>34.260122</td>\n",
       "      <td>25.120808</td>\n",
       "      <td>25.120808</td>\n",
       "      <td>0.000000</td>\n",
       "      <td>-1.088408</td>\n",
       "      <td>0.034702</td>\n",
       "      <td>pro</td>\n",
       "    </tr>\n",
       "  </tbody>\n",
       "</table>\n",
       "</div>"
      ],
      "text/plain": [
       "    spec_key_1  spec_key_2      pmz_1      pmz_2       mz_1       mz_2  \\\n",
       "15           2           3  35.348531  34.260122  34.260122  34.260122   \n",
       "10           1           2  34.260122  35.348531  34.260122  34.260122   \n",
       "5            0           2  33.171714  35.348531  33.171714  34.260122   \n",
       "13           2           3  35.348531  34.260122  20.095610  20.095610   \n",
       "8            1           2  34.260122  35.348531  20.095610  20.095610   \n",
       "16           2           3  35.348531  34.260122  35.348531  34.260122   \n",
       "12           2           3  35.348531  34.260122   8.050906   8.050906   \n",
       "7            1           2  34.260122  35.348531   9.139314   9.139314   \n",
       "2            0           1  33.171714  34.260122  20.095610  20.095610   \n",
       "11           2           3  35.348531  34.260122   6.113606   6.113606   \n",
       "6            1           2  34.260122  35.348531   5.025198   5.025198   \n",
       "14           2           3  35.348531  34.260122  26.209216  26.209216   \n",
       "9            1           2  34.260122  35.348531  29.234925  29.234925   \n",
       "1            0           3  33.171714  34.260122   8.050906   8.050906   \n",
       "0            0           1  33.171714  34.260122   5.025198   5.025198   \n",
       "4            0           3  33.171714  34.260122  28.146516  28.146516   \n",
       "3            0           1  33.171714  34.260122  25.120808  25.120808   \n",
       "\n",
       "     mz_diff   nl_diff     score type  \n",
       "15  0.000000       NaN  0.124207  pro  \n",
       "10  0.000000       NaN  0.124207  pro  \n",
       "5  -1.088408       NaN  0.090771  pro  \n",
       "13  0.000000  1.088408  0.080750  pro  \n",
       "8   0.000000 -1.088408  0.071638  pro  \n",
       "16  1.088408       NaN  0.065734  pro  \n",
       "12  0.000000  1.088408  0.064114  pro  \n",
       "7   0.000000 -1.088408  0.060868  pro  \n",
       "2   0.000000 -1.088408  0.060118  pro  \n",
       "11  0.000000  1.088408  0.059408  pro  \n",
       "6   0.000000 -1.088408  0.052070  pro  \n",
       "14  0.000000  1.088408  0.051111  pro  \n",
       "9   0.000000 -1.088408  0.050585  pro  \n",
       "1   0.000000 -1.088408  0.037017  pro  \n",
       "0   0.000000 -1.088408  0.037017  pro  \n",
       "4   0.000000 -1.088408  0.034702  pro  \n",
       "3   0.000000 -1.088408  0.034702  pro  "
      ]
     },
     "execution_count": 19,
     "metadata": {},
     "output_type": "execute_result"
    }
   ],
   "source": [
    "sml.matching_ions_report(S,C,M,mzs,pmzs).query('type==\"pro\"').sort_values('score',ascending=False).head(50)"
   ]
  },
  {
   "cell_type": "code",
   "execution_count": null,
   "id": "f5995f29",
   "metadata": {},
   "outputs": [],
   "source": []
  }
 ],
 "metadata": {
  "kernelspec": {
   "display_name": "Python 3 (ipykernel)",
   "language": "python",
   "name": "python3"
  },
  "language_info": {
   "codemirror_mode": {
    "name": "ipython",
    "version": 3
   },
   "file_extension": ".py",
   "mimetype": "text/x-python",
   "name": "python",
   "nbconvert_exporter": "python",
   "pygments_lexer": "ipython3",
   "version": "3.9.10"
  }
 },
 "nbformat": 4,
 "nbformat_minor": 5
}
